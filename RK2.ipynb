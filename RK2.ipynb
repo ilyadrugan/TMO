{
  "cells": [
    {
      "cell_type": "markdown",
      "id": "61f0104c",
      "metadata": {
        "id": "61f0104c"
      },
      "source": [
        "# Задание рубежного контроля и входные данные"
      ]
    },
    {
      "cell_type": "markdown",
      "id": "95498ce3",
      "metadata": {
        "id": "95498ce3"
      },
      "source": [
        "# ИУ5-64Б Драгун И.А.\n",
        "## Рубежный контроль №2 (вариант 4)"
      ]
    },
    {
      "cell_type": "markdown",
      "id": "3edb9357",
      "metadata": {
        "id": "3edb9357"
      },
      "source": [
        "### Задание"
      ]
    },
    {
      "cell_type": "markdown",
      "id": "e2639d1a",
      "metadata": {
        "id": "e2639d1a"
      },
      "source": [
        "- Для заданного набора данных построить модели классификации или регрессии (в зависимости от конкретной задачи, рассматриваемой в наборе данных). \n",
        "- Для построения моделей использовать методы 1 и 2.\n",
        "- Для построения моделей необходимо выполнить требуемую предобработку данных: заполнение пропусков, кодирование категориальных признаков, и т.д.\n",
        "- Оценить качество моделей на основе подходящих метрик качества (не менее двух метрик). \n",
        "- Какие метрики качества Вы использовали и почему? Какие выводы Вы можете сделать о качестве построенных моделей? "
      ]
    },
    {
      "cell_type": "markdown",
      "id": "12d86af5",
      "metadata": {
        "id": "12d86af5"
      },
      "source": [
        "### Методы"
      ]
    },
    {
      "cell_type": "markdown",
      "id": "3d53f057",
      "metadata": {
        "id": "3d53f057"
      },
      "source": [
        "- Метод 1 - Линейная/логистическая регрессия\n",
        "- Метод 2 - Градиентный бустинг"
      ]
    },
    {
      "cell_type": "markdown",
      "id": "dd19c49e",
      "metadata": {
        "id": "dd19c49e"
      },
      "source": [
        "### Набор данных 4."
      ]
    },
    {
      "cell_type": "markdown",
      "id": "874c583b",
      "metadata": {
        "id": "874c583b"
      },
      "source": [
        "Доступен по адресу: https://www.kaggle.com/carlolepelaars/toy-dataset"
      ]
    },
    {
      "cell_type": "markdown",
      "id": "908f39de",
      "metadata": {
        "id": "908f39de"
      },
      "source": [
        "# Ячейки Jupyter-ноутбука"
      ]
    },
    {
      "cell_type": "markdown",
      "id": "68341b70",
      "metadata": {
        "id": "68341b70"
      },
      "source": [
        "## Текстовое описание датасета"
      ]
    },
    {
      "cell_type": "markdown",
      "id": "beefaaee",
      "metadata": {
        "id": "beefaaee"
      },
      "source": [
        "В качестве набора данных используется датасет с вымышленными данными. Он имеет следующие атрибуты:"
      ]
    },
    {
      "cell_type": "markdown",
      "id": "051db7f9",
      "metadata": {
        "id": "051db7f9"
      },
      "source": [
        "- Number - порядковый номер - индекс для каждой строки\n",
        "- City - город - город проживания человека\n",
        "- Gender - пол - пол человека\n",
        "- Age - возраст - сколько человеку лет\n",
        "- Income - доход - годовой доход человека\n",
        "- Illness - болезнь - болеет ли человек"
      ]
    },
    {
      "cell_type": "markdown",
      "id": "7299fda7",
      "metadata": {
        "id": "7299fda7"
      },
      "source": [
        "## Импорт библиотек и загрузка данных"
      ]
    },
    {
      "cell_type": "markdown",
      "id": "2d6a3733",
      "metadata": {
        "id": "2d6a3733"
      },
      "source": [
        "Импортируем необходимые библиотеки:"
      ]
    },
    {
      "cell_type": "code",
      "execution_count": 2,
      "id": "317c67f2",
      "metadata": {
        "id": "317c67f2"
      },
      "outputs": [],
      "source": [
        "import numpy as np\n",
        "import pandas as pd\n",
        "import seaborn as sns\n",
        "import matplotlib.pyplot as plt"
      ]
    },
    {
      "cell_type": "markdown",
      "id": "958d3a3c",
      "metadata": {
        "id": "958d3a3c"
      },
      "source": [
        "Загрузим датасет:"
      ]
    },
    {
      "cell_type": "code",
      "execution_count": 3,
      "id": "11c5eba6",
      "metadata": {
        "id": "11c5eba6"
      },
      "outputs": [],
      "source": [
        "data = pd.read_csv('toy_dataset.csv')"
      ]
    },
    {
      "cell_type": "markdown",
      "id": "62ec3427",
      "metadata": {
        "id": "62ec3427"
      },
      "source": [
        "Выведем первые 5 строк датасета:"
      ]
    },
    {
      "cell_type": "code",
      "execution_count": 4,
      "id": "c5d74251",
      "metadata": {
        "colab": {
          "base_uri": "https://localhost:8080/",
          "height": 206
        },
        "id": "c5d74251",
        "outputId": "4575c31a-278c-41b2-bbed-7ff3c01b64a7"
      },
      "outputs": [
        {
          "output_type": "execute_result",
          "data": {
            "text/plain": [
              "   Number    City Gender  Age   Income Illness\n",
              "0       1  Dallas   Male   41  40367.0      No\n",
              "1       2  Dallas   Male   54  45084.0      No\n",
              "2       3  Dallas   Male   42  52483.0      No\n",
              "3       4  Dallas   Male   40  40941.0      No\n",
              "4       5  Dallas   Male   46  50289.0      No"
            ],
            "text/html": [
              "\n",
              "  <div id=\"df-4f2ec4a1-a2e1-4959-92be-cb09b5b23dd7\">\n",
              "    <div class=\"colab-df-container\">\n",
              "      <div>\n",
              "<style scoped>\n",
              "    .dataframe tbody tr th:only-of-type {\n",
              "        vertical-align: middle;\n",
              "    }\n",
              "\n",
              "    .dataframe tbody tr th {\n",
              "        vertical-align: top;\n",
              "    }\n",
              "\n",
              "    .dataframe thead th {\n",
              "        text-align: right;\n",
              "    }\n",
              "</style>\n",
              "<table border=\"1\" class=\"dataframe\">\n",
              "  <thead>\n",
              "    <tr style=\"text-align: right;\">\n",
              "      <th></th>\n",
              "      <th>Number</th>\n",
              "      <th>City</th>\n",
              "      <th>Gender</th>\n",
              "      <th>Age</th>\n",
              "      <th>Income</th>\n",
              "      <th>Illness</th>\n",
              "    </tr>\n",
              "  </thead>\n",
              "  <tbody>\n",
              "    <tr>\n",
              "      <th>0</th>\n",
              "      <td>1</td>\n",
              "      <td>Dallas</td>\n",
              "      <td>Male</td>\n",
              "      <td>41</td>\n",
              "      <td>40367.0</td>\n",
              "      <td>No</td>\n",
              "    </tr>\n",
              "    <tr>\n",
              "      <th>1</th>\n",
              "      <td>2</td>\n",
              "      <td>Dallas</td>\n",
              "      <td>Male</td>\n",
              "      <td>54</td>\n",
              "      <td>45084.0</td>\n",
              "      <td>No</td>\n",
              "    </tr>\n",
              "    <tr>\n",
              "      <th>2</th>\n",
              "      <td>3</td>\n",
              "      <td>Dallas</td>\n",
              "      <td>Male</td>\n",
              "      <td>42</td>\n",
              "      <td>52483.0</td>\n",
              "      <td>No</td>\n",
              "    </tr>\n",
              "    <tr>\n",
              "      <th>3</th>\n",
              "      <td>4</td>\n",
              "      <td>Dallas</td>\n",
              "      <td>Male</td>\n",
              "      <td>40</td>\n",
              "      <td>40941.0</td>\n",
              "      <td>No</td>\n",
              "    </tr>\n",
              "    <tr>\n",
              "      <th>4</th>\n",
              "      <td>5</td>\n",
              "      <td>Dallas</td>\n",
              "      <td>Male</td>\n",
              "      <td>46</td>\n",
              "      <td>50289.0</td>\n",
              "      <td>No</td>\n",
              "    </tr>\n",
              "  </tbody>\n",
              "</table>\n",
              "</div>\n",
              "      <button class=\"colab-df-convert\" onclick=\"convertToInteractive('df-4f2ec4a1-a2e1-4959-92be-cb09b5b23dd7')\"\n",
              "              title=\"Convert this dataframe to an interactive table.\"\n",
              "              style=\"display:none;\">\n",
              "        \n",
              "  <svg xmlns=\"http://www.w3.org/2000/svg\" height=\"24px\"viewBox=\"0 0 24 24\"\n",
              "       width=\"24px\">\n",
              "    <path d=\"M0 0h24v24H0V0z\" fill=\"none\"/>\n",
              "    <path d=\"M18.56 5.44l.94 2.06.94-2.06 2.06-.94-2.06-.94-.94-2.06-.94 2.06-2.06.94zm-11 1L8.5 8.5l.94-2.06 2.06-.94-2.06-.94L8.5 2.5l-.94 2.06-2.06.94zm10 10l.94 2.06.94-2.06 2.06-.94-2.06-.94-.94-2.06-.94 2.06-2.06.94z\"/><path d=\"M17.41 7.96l-1.37-1.37c-.4-.4-.92-.59-1.43-.59-.52 0-1.04.2-1.43.59L10.3 9.45l-7.72 7.72c-.78.78-.78 2.05 0 2.83L4 21.41c.39.39.9.59 1.41.59.51 0 1.02-.2 1.41-.59l7.78-7.78 2.81-2.81c.8-.78.8-2.07 0-2.86zM5.41 20L4 18.59l7.72-7.72 1.47 1.35L5.41 20z\"/>\n",
              "  </svg>\n",
              "      </button>\n",
              "      \n",
              "  <style>\n",
              "    .colab-df-container {\n",
              "      display:flex;\n",
              "      flex-wrap:wrap;\n",
              "      gap: 12px;\n",
              "    }\n",
              "\n",
              "    .colab-df-convert {\n",
              "      background-color: #E8F0FE;\n",
              "      border: none;\n",
              "      border-radius: 50%;\n",
              "      cursor: pointer;\n",
              "      display: none;\n",
              "      fill: #1967D2;\n",
              "      height: 32px;\n",
              "      padding: 0 0 0 0;\n",
              "      width: 32px;\n",
              "    }\n",
              "\n",
              "    .colab-df-convert:hover {\n",
              "      background-color: #E2EBFA;\n",
              "      box-shadow: 0px 1px 2px rgba(60, 64, 67, 0.3), 0px 1px 3px 1px rgba(60, 64, 67, 0.15);\n",
              "      fill: #174EA6;\n",
              "    }\n",
              "\n",
              "    [theme=dark] .colab-df-convert {\n",
              "      background-color: #3B4455;\n",
              "      fill: #D2E3FC;\n",
              "    }\n",
              "\n",
              "    [theme=dark] .colab-df-convert:hover {\n",
              "      background-color: #434B5C;\n",
              "      box-shadow: 0px 1px 3px 1px rgba(0, 0, 0, 0.15);\n",
              "      filter: drop-shadow(0px 1px 2px rgba(0, 0, 0, 0.3));\n",
              "      fill: #FFFFFF;\n",
              "    }\n",
              "  </style>\n",
              "\n",
              "      <script>\n",
              "        const buttonEl =\n",
              "          document.querySelector('#df-4f2ec4a1-a2e1-4959-92be-cb09b5b23dd7 button.colab-df-convert');\n",
              "        buttonEl.style.display =\n",
              "          google.colab.kernel.accessAllowed ? 'block' : 'none';\n",
              "\n",
              "        async function convertToInteractive(key) {\n",
              "          const element = document.querySelector('#df-4f2ec4a1-a2e1-4959-92be-cb09b5b23dd7');\n",
              "          const dataTable =\n",
              "            await google.colab.kernel.invokeFunction('convertToInteractive',\n",
              "                                                     [key], {});\n",
              "          if (!dataTable) return;\n",
              "\n",
              "          const docLinkHtml = 'Like what you see? Visit the ' +\n",
              "            '<a target=\"_blank\" href=https://colab.research.google.com/notebooks/data_table.ipynb>data table notebook</a>'\n",
              "            + ' to learn more about interactive tables.';\n",
              "          element.innerHTML = '';\n",
              "          dataTable['output_type'] = 'display_data';\n",
              "          await google.colab.output.renderOutput(dataTable, element);\n",
              "          const docLink = document.createElement('div');\n",
              "          docLink.innerHTML = docLinkHtml;\n",
              "          element.appendChild(docLink);\n",
              "        }\n",
              "      </script>\n",
              "    </div>\n",
              "  </div>\n",
              "  "
            ]
          },
          "metadata": {},
          "execution_count": 4
        }
      ],
      "source": [
        "data.head()"
      ]
    },
    {
      "cell_type": "markdown",
      "id": "d331113d",
      "metadata": {
        "id": "d331113d"
      },
      "source": [
        "Определим размер датасета:"
      ]
    },
    {
      "cell_type": "code",
      "execution_count": 5,
      "id": "54a96d49",
      "metadata": {
        "colab": {
          "base_uri": "https://localhost:8080/"
        },
        "id": "54a96d49",
        "outputId": "ad6a7e33-ffa1-4faa-ae4c-ac5e7f5ac505"
      },
      "outputs": [
        {
          "output_type": "execute_result",
          "data": {
            "text/plain": [
              "(109120, 6)"
            ]
          },
          "metadata": {},
          "execution_count": 5
        }
      ],
      "source": [
        "data.shape"
      ]
    },
    {
      "cell_type": "markdown",
      "id": "159e9f4e",
      "metadata": {
        "id": "159e9f4e"
      },
      "source": [
        "Определим типы столбцов:"
      ]
    },
    {
      "cell_type": "code",
      "execution_count": 6,
      "id": "ccfa457f",
      "metadata": {
        "colab": {
          "base_uri": "https://localhost:8080/"
        },
        "id": "ccfa457f",
        "outputId": "0c952cfb-90fc-4d50-820b-eb4fd950fa14"
      },
      "outputs": [
        {
          "output_type": "execute_result",
          "data": {
            "text/plain": [
              "Number       int64\n",
              "City        object\n",
              "Gender      object\n",
              "Age          int64\n",
              "Income     float64\n",
              "Illness     object\n",
              "dtype: object"
            ]
          },
          "metadata": {},
          "execution_count": 6
        }
      ],
      "source": [
        "data.dtypes"
      ]
    },
    {
      "cell_type": "markdown",
      "id": "bc741563",
      "metadata": {
        "id": "bc741563"
      },
      "source": [
        "Часть столбцов имеют тип Object. Потребуется преобразование этих столбцов в числовые типы данных."
      ]
    },
    {
      "cell_type": "markdown",
      "id": "94732ba4",
      "metadata": {
        "id": "94732ba4"
      },
      "source": [
        "Уберем предупреждения:"
      ]
    },
    {
      "cell_type": "code",
      "execution_count": 7,
      "id": "6fbfc07f",
      "metadata": {
        "id": "6fbfc07f"
      },
      "outputs": [],
      "source": [
        "import warnings\n",
        "warnings.filterwarnings('ignore')"
      ]
    },
    {
      "cell_type": "markdown",
      "id": "32c0a616",
      "metadata": {
        "id": "32c0a616"
      },
      "source": [
        "## Удаление столбцов"
      ]
    },
    {
      "cell_type": "markdown",
      "id": "8fe90e86",
      "metadata": {
        "id": "8fe90e86"
      },
      "source": [
        "Столбец Number не нужен для дальнейшего анализа, поэтому удалим его:"
      ]
    },
    {
      "cell_type": "code",
      "execution_count": 8,
      "id": "23a33303",
      "metadata": {
        "id": "23a33303"
      },
      "outputs": [],
      "source": [
        "data = data.drop(columns=['Number'], axis=1)"
      ]
    },
    {
      "cell_type": "code",
      "execution_count": 9,
      "id": "1fd5d398",
      "metadata": {
        "colab": {
          "base_uri": "https://localhost:8080/",
          "height": 206
        },
        "id": "1fd5d398",
        "outputId": "d6d34915-a219-4fa1-da98-601dbe8d371d"
      },
      "outputs": [
        {
          "output_type": "execute_result",
          "data": {
            "text/plain": [
              "     City Gender  Age   Income Illness\n",
              "0  Dallas   Male   41  40367.0      No\n",
              "1  Dallas   Male   54  45084.0      No\n",
              "2  Dallas   Male   42  52483.0      No\n",
              "3  Dallas   Male   40  40941.0      No\n",
              "4  Dallas   Male   46  50289.0      No"
            ],
            "text/html": [
              "\n",
              "  <div id=\"df-5d6b07fb-3484-45c3-9773-ac6be113b165\">\n",
              "    <div class=\"colab-df-container\">\n",
              "      <div>\n",
              "<style scoped>\n",
              "    .dataframe tbody tr th:only-of-type {\n",
              "        vertical-align: middle;\n",
              "    }\n",
              "\n",
              "    .dataframe tbody tr th {\n",
              "        vertical-align: top;\n",
              "    }\n",
              "\n",
              "    .dataframe thead th {\n",
              "        text-align: right;\n",
              "    }\n",
              "</style>\n",
              "<table border=\"1\" class=\"dataframe\">\n",
              "  <thead>\n",
              "    <tr style=\"text-align: right;\">\n",
              "      <th></th>\n",
              "      <th>City</th>\n",
              "      <th>Gender</th>\n",
              "      <th>Age</th>\n",
              "      <th>Income</th>\n",
              "      <th>Illness</th>\n",
              "    </tr>\n",
              "  </thead>\n",
              "  <tbody>\n",
              "    <tr>\n",
              "      <th>0</th>\n",
              "      <td>Dallas</td>\n",
              "      <td>Male</td>\n",
              "      <td>41</td>\n",
              "      <td>40367.0</td>\n",
              "      <td>No</td>\n",
              "    </tr>\n",
              "    <tr>\n",
              "      <th>1</th>\n",
              "      <td>Dallas</td>\n",
              "      <td>Male</td>\n",
              "      <td>54</td>\n",
              "      <td>45084.0</td>\n",
              "      <td>No</td>\n",
              "    </tr>\n",
              "    <tr>\n",
              "      <th>2</th>\n",
              "      <td>Dallas</td>\n",
              "      <td>Male</td>\n",
              "      <td>42</td>\n",
              "      <td>52483.0</td>\n",
              "      <td>No</td>\n",
              "    </tr>\n",
              "    <tr>\n",
              "      <th>3</th>\n",
              "      <td>Dallas</td>\n",
              "      <td>Male</td>\n",
              "      <td>40</td>\n",
              "      <td>40941.0</td>\n",
              "      <td>No</td>\n",
              "    </tr>\n",
              "    <tr>\n",
              "      <th>4</th>\n",
              "      <td>Dallas</td>\n",
              "      <td>Male</td>\n",
              "      <td>46</td>\n",
              "      <td>50289.0</td>\n",
              "      <td>No</td>\n",
              "    </tr>\n",
              "  </tbody>\n",
              "</table>\n",
              "</div>\n",
              "      <button class=\"colab-df-convert\" onclick=\"convertToInteractive('df-5d6b07fb-3484-45c3-9773-ac6be113b165')\"\n",
              "              title=\"Convert this dataframe to an interactive table.\"\n",
              "              style=\"display:none;\">\n",
              "        \n",
              "  <svg xmlns=\"http://www.w3.org/2000/svg\" height=\"24px\"viewBox=\"0 0 24 24\"\n",
              "       width=\"24px\">\n",
              "    <path d=\"M0 0h24v24H0V0z\" fill=\"none\"/>\n",
              "    <path d=\"M18.56 5.44l.94 2.06.94-2.06 2.06-.94-2.06-.94-.94-2.06-.94 2.06-2.06.94zm-11 1L8.5 8.5l.94-2.06 2.06-.94-2.06-.94L8.5 2.5l-.94 2.06-2.06.94zm10 10l.94 2.06.94-2.06 2.06-.94-2.06-.94-.94-2.06-.94 2.06-2.06.94z\"/><path d=\"M17.41 7.96l-1.37-1.37c-.4-.4-.92-.59-1.43-.59-.52 0-1.04.2-1.43.59L10.3 9.45l-7.72 7.72c-.78.78-.78 2.05 0 2.83L4 21.41c.39.39.9.59 1.41.59.51 0 1.02-.2 1.41-.59l7.78-7.78 2.81-2.81c.8-.78.8-2.07 0-2.86zM5.41 20L4 18.59l7.72-7.72 1.47 1.35L5.41 20z\"/>\n",
              "  </svg>\n",
              "      </button>\n",
              "      \n",
              "  <style>\n",
              "    .colab-df-container {\n",
              "      display:flex;\n",
              "      flex-wrap:wrap;\n",
              "      gap: 12px;\n",
              "    }\n",
              "\n",
              "    .colab-df-convert {\n",
              "      background-color: #E8F0FE;\n",
              "      border: none;\n",
              "      border-radius: 50%;\n",
              "      cursor: pointer;\n",
              "      display: none;\n",
              "      fill: #1967D2;\n",
              "      height: 32px;\n",
              "      padding: 0 0 0 0;\n",
              "      width: 32px;\n",
              "    }\n",
              "\n",
              "    .colab-df-convert:hover {\n",
              "      background-color: #E2EBFA;\n",
              "      box-shadow: 0px 1px 2px rgba(60, 64, 67, 0.3), 0px 1px 3px 1px rgba(60, 64, 67, 0.15);\n",
              "      fill: #174EA6;\n",
              "    }\n",
              "\n",
              "    [theme=dark] .colab-df-convert {\n",
              "      background-color: #3B4455;\n",
              "      fill: #D2E3FC;\n",
              "    }\n",
              "\n",
              "    [theme=dark] .colab-df-convert:hover {\n",
              "      background-color: #434B5C;\n",
              "      box-shadow: 0px 1px 3px 1px rgba(0, 0, 0, 0.15);\n",
              "      filter: drop-shadow(0px 1px 2px rgba(0, 0, 0, 0.3));\n",
              "      fill: #FFFFFF;\n",
              "    }\n",
              "  </style>\n",
              "\n",
              "      <script>\n",
              "        const buttonEl =\n",
              "          document.querySelector('#df-5d6b07fb-3484-45c3-9773-ac6be113b165 button.colab-df-convert');\n",
              "        buttonEl.style.display =\n",
              "          google.colab.kernel.accessAllowed ? 'block' : 'none';\n",
              "\n",
              "        async function convertToInteractive(key) {\n",
              "          const element = document.querySelector('#df-5d6b07fb-3484-45c3-9773-ac6be113b165');\n",
              "          const dataTable =\n",
              "            await google.colab.kernel.invokeFunction('convertToInteractive',\n",
              "                                                     [key], {});\n",
              "          if (!dataTable) return;\n",
              "\n",
              "          const docLinkHtml = 'Like what you see? Visit the ' +\n",
              "            '<a target=\"_blank\" href=https://colab.research.google.com/notebooks/data_table.ipynb>data table notebook</a>'\n",
              "            + ' to learn more about interactive tables.';\n",
              "          element.innerHTML = '';\n",
              "          dataTable['output_type'] = 'display_data';\n",
              "          await google.colab.output.renderOutput(dataTable, element);\n",
              "          const docLink = document.createElement('div');\n",
              "          docLink.innerHTML = docLinkHtml;\n",
              "          element.appendChild(docLink);\n",
              "        }\n",
              "      </script>\n",
              "    </div>\n",
              "  </div>\n",
              "  "
            ]
          },
          "metadata": {},
          "execution_count": 9
        }
      ],
      "source": [
        "data.head()"
      ]
    },
    {
      "cell_type": "markdown",
      "id": "ada8e27e",
      "metadata": {
        "id": "ada8e27e"
      },
      "source": [
        "## Преобразование типов данных"
      ]
    },
    {
      "cell_type": "markdown",
      "id": "8e8b53a6",
      "metadata": {
        "id": "8e8b53a6"
      },
      "source": [
        "Проверим уникальные значения для столбца Сity:"
      ]
    },
    {
      "cell_type": "code",
      "execution_count": 21,
      "id": "daa75f82",
      "metadata": {
        "colab": {
          "base_uri": "https://localhost:8080/"
        },
        "id": "daa75f82",
        "outputId": "00bdd604-a9de-4bdd-efc1-ea55134bc28e"
      },
      "outputs": [
        {
          "output_type": "execute_result",
          "data": {
            "text/plain": [
              "array([0, 3, 1, 2])"
            ]
          },
          "metadata": {},
          "execution_count": 21
        }
      ],
      "source": [
        "data['City'].unique()"
      ]
    },
    {
      "cell_type": "markdown",
      "id": "f16184d1",
      "metadata": {
        "id": "f16184d1"
      },
      "source": [
        "В качестве значений в столбце City могут быть следующие города: Dallas, New York City, Los Angeles, Mountain View, Boston, Washington D.C., San Diego and Austin. Таких значений 8."
      ]
    },
    {
      "cell_type": "markdown",
      "id": "154d6040",
      "metadata": {
        "id": "154d6040"
      },
      "source": [
        "Проверим уникальные значения для столбца Gender:"
      ]
    },
    {
      "cell_type": "code",
      "execution_count": 22,
      "id": "84c8fdfa",
      "metadata": {
        "colab": {
          "base_uri": "https://localhost:8080/"
        },
        "id": "84c8fdfa",
        "outputId": "9ad17348-9b7e-43a0-f90b-06a40ae8151b"
      },
      "outputs": [
        {
          "output_type": "execute_result",
          "data": {
            "text/plain": [
              "array([1, 0])"
            ]
          },
          "metadata": {},
          "execution_count": 22
        }
      ],
      "source": [
        "data['Gender'].unique()"
      ]
    },
    {
      "cell_type": "markdown",
      "id": "0d4c433f",
      "metadata": {
        "id": "0d4c433f"
      },
      "source": [
        "В столбце Gender 2 варианта - Male или Female."
      ]
    },
    {
      "cell_type": "markdown",
      "id": "2486c1c1",
      "metadata": {
        "id": "2486c1c1"
      },
      "source": [
        "Проверим уникальные значения для столбца Illness:"
      ]
    },
    {
      "cell_type": "code",
      "execution_count": 23,
      "id": "7fac64ef",
      "metadata": {
        "colab": {
          "base_uri": "https://localhost:8080/"
        },
        "id": "7fac64ef",
        "outputId": "23b370b0-8450-4b27-8e37-3d45b56c3527"
      },
      "outputs": [
        {
          "output_type": "execute_result",
          "data": {
            "text/plain": [
              "array([0, 1, 2])"
            ]
          },
          "metadata": {},
          "execution_count": 23
        }
      ],
      "source": [
        "data['Illness'].unique()"
      ]
    },
    {
      "cell_type": "markdown",
      "id": "3b9fcdcb",
      "metadata": {
        "id": "3b9fcdcb"
      },
      "source": [
        "В столбце Illness тоже 2 варианта - No или Yes."
      ]
    },
    {
      "cell_type": "markdown",
      "id": "7973fa30",
      "metadata": {
        "id": "7973fa30"
      },
      "source": [
        "Эти три столбца можно отнести к категориальным признакам."
      ]
    },
    {
      "cell_type": "markdown",
      "id": "9d28abf9",
      "metadata": {
        "id": "9d28abf9"
      },
      "source": [
        "Уникальные значения категориальных признаков можно кодировать целыми числами. Для этого можно использовать LabelEncoder из Scikit-learn."
      ]
    },
    {
      "cell_type": "markdown",
      "id": "43d1265e",
      "metadata": {
        "id": "43d1265e"
      },
      "source": [
        "Импортируем LabelEncoder: "
      ]
    },
    {
      "cell_type": "code",
      "execution_count": 24,
      "id": "138c54cf",
      "metadata": {
        "id": "138c54cf"
      },
      "outputs": [],
      "source": [
        "from sklearn.preprocessing import LabelEncoder"
      ]
    },
    {
      "cell_type": "markdown",
      "id": "ec7a447a",
      "metadata": {
        "id": "ec7a447a"
      },
      "source": [
        "Преобразуем столбец City:"
      ]
    },
    {
      "cell_type": "code",
      "execution_count": 25,
      "id": "38a07c46",
      "metadata": {
        "id": "38a07c46"
      },
      "outputs": [],
      "source": [
        "letypecity = LabelEncoder()\n",
        "learrcity = letypecity.fit_transform(data[\"City\"])\n",
        "data[\"City\"] = learrcity\n",
        "data = data.astype({\"City\":\"int64\"})"
      ]
    },
    {
      "cell_type": "markdown",
      "id": "58dec9c0",
      "metadata": {
        "id": "58dec9c0"
      },
      "source": [
        "Проверим преобразование:"
      ]
    },
    {
      "cell_type": "code",
      "execution_count": 26,
      "id": "9fa37645",
      "metadata": {
        "colab": {
          "base_uri": "https://localhost:8080/"
        },
        "id": "9fa37645",
        "outputId": "0fce238b-09c2-483e-f9ec-d5b29a7dec20"
      },
      "outputs": [
        {
          "output_type": "execute_result",
          "data": {
            "text/plain": [
              "array([0, 1, 2, 3])"
            ]
          },
          "metadata": {},
          "execution_count": 26
        }
      ],
      "source": [
        "np.unique(learrcity)"
      ]
    },
    {
      "cell_type": "markdown",
      "id": "95307614",
      "metadata": {
        "id": "95307614"
      },
      "source": [
        "Аналогично преобразуем столбцы Gender и Illness:"
      ]
    },
    {
      "cell_type": "code",
      "execution_count": 27,
      "id": "e510c4ee",
      "metadata": {
        "id": "e510c4ee"
      },
      "outputs": [],
      "source": [
        "letypegender = LabelEncoder()\n",
        "learrgender = letypegender.fit_transform(data[\"Gender\"])\n",
        "data[\"Gender\"] = learrgender\n",
        "data = data.astype({\"Gender\":\"int64\"})"
      ]
    },
    {
      "cell_type": "code",
      "execution_count": 28,
      "id": "0dc55241",
      "metadata": {
        "colab": {
          "base_uri": "https://localhost:8080/"
        },
        "id": "0dc55241",
        "outputId": "1dba86ea-0a27-40dd-e5bb-1cf999d51d5a"
      },
      "outputs": [
        {
          "output_type": "execute_result",
          "data": {
            "text/plain": [
              "array([0, 1])"
            ]
          },
          "metadata": {},
          "execution_count": 28
        }
      ],
      "source": [
        "np.unique(learrgender)"
      ]
    },
    {
      "cell_type": "code",
      "execution_count": 29,
      "id": "6b8f1616",
      "metadata": {
        "id": "6b8f1616"
      },
      "outputs": [],
      "source": [
        "letypeill = LabelEncoder()\n",
        "learrill = letypeill.fit_transform(data[\"Illness\"])\n",
        "data[\"Illness\"] = learrill\n",
        "data = data.astype({\"Illness\":\"int64\"})"
      ]
    },
    {
      "cell_type": "code",
      "execution_count": 30,
      "id": "bce3f6d8",
      "metadata": {
        "colab": {
          "base_uri": "https://localhost:8080/"
        },
        "id": "bce3f6d8",
        "outputId": "5c648fbd-f350-4d3e-8b4e-85418c71c33f"
      },
      "outputs": [
        {
          "output_type": "execute_result",
          "data": {
            "text/plain": [
              "array([0, 1, 2])"
            ]
          },
          "metadata": {},
          "execution_count": 30
        }
      ],
      "source": [
        "np.unique(learrill)"
      ]
    },
    {
      "cell_type": "markdown",
      "id": "e52e524d",
      "metadata": {
        "id": "e52e524d"
      },
      "source": [
        "Выведем типы столбцов после преобразования:"
      ]
    },
    {
      "cell_type": "code",
      "execution_count": 31,
      "id": "b8ae4cc4",
      "metadata": {
        "colab": {
          "base_uri": "https://localhost:8080/"
        },
        "id": "b8ae4cc4",
        "outputId": "28af6ecc-62fc-4e62-814f-04be21a5031b"
      },
      "outputs": [
        {
          "output_type": "execute_result",
          "data": {
            "text/plain": [
              "City         int64\n",
              "Gender       int64\n",
              "Age          int64\n",
              "Income     float64\n",
              "Illness      int64\n",
              "dtype: object"
            ]
          },
          "metadata": {},
          "execution_count": 31
        }
      ],
      "source": [
        "data.dtypes"
      ]
    },
    {
      "cell_type": "markdown",
      "id": "a848dfad",
      "metadata": {
        "id": "a848dfad"
      },
      "source": [
        "## Проверка наличия пропусков"
      ]
    },
    {
      "cell_type": "markdown",
      "id": "f04b56af",
      "metadata": {
        "id": "f04b56af"
      },
      "source": [
        "Проверим наличие пропусков:"
      ]
    },
    {
      "cell_type": "code",
      "execution_count": 32,
      "id": "c918d176",
      "metadata": {
        "colab": {
          "base_uri": "https://localhost:8080/"
        },
        "id": "c918d176",
        "outputId": "f586e2e6-9aef-4355-950d-7585bc489ff0"
      },
      "outputs": [
        {
          "output_type": "execute_result",
          "data": {
            "text/plain": [
              "City       0\n",
              "Gender     0\n",
              "Age        0\n",
              "Income     0\n",
              "Illness    0\n",
              "dtype: int64"
            ]
          },
          "metadata": {},
          "execution_count": 32
        }
      ],
      "source": [
        "data.isnull().sum()"
      ]
    },
    {
      "cell_type": "markdown",
      "id": "b7948596",
      "metadata": {
        "id": "b7948596"
      },
      "source": [
        "Пропусков не наблюдается."
      ]
    },
    {
      "cell_type": "markdown",
      "id": "c635e3c0",
      "metadata": {
        "id": "c635e3c0"
      },
      "source": [
        "Все предварительные преобразования были совершены, можно приступать к построению моделей."
      ]
    },
    {
      "cell_type": "markdown",
      "id": "3a147b2f",
      "metadata": {
        "id": "3a147b2f"
      },
      "source": [
        "## Разделение выборки на обучающую и тестовую"
      ]
    },
    {
      "cell_type": "markdown",
      "id": "c0aed41f",
      "metadata": {
        "id": "c0aed41f"
      },
      "source": [
        "Разделим выборку по столбцу City с помощью функции train_test_split:"
      ]
    },
    {
      "cell_type": "code",
      "execution_count": 33,
      "id": "2ec80228",
      "metadata": {
        "id": "2ec80228"
      },
      "outputs": [],
      "source": [
        "from sklearn.model_selection import train_test_split"
      ]
    },
    {
      "cell_type": "code",
      "execution_count": 34,
      "id": "0978c61f",
      "metadata": {
        "id": "0978c61f"
      },
      "outputs": [],
      "source": [
        "X_train, X_test, y_train, y_test = train_test_split(data, data.City, random_state=1)"
      ]
    },
    {
      "cell_type": "markdown",
      "id": "ff39ec3b",
      "metadata": {
        "id": "ff39ec3b"
      },
      "source": [
        "Размеры обучающей выборки и тестовой выборки:"
      ]
    },
    {
      "cell_type": "code",
      "execution_count": 35,
      "id": "a6cd0b80",
      "metadata": {
        "colab": {
          "base_uri": "https://localhost:8080/"
        },
        "id": "a6cd0b80",
        "outputId": "7816d4f2-96f6-4b77-8324-1302f7b6d020"
      },
      "outputs": [
        {
          "output_type": "execute_result",
          "data": {
            "text/plain": [
              "((81840, 5), (81840,), (27280, 5), (27280,))"
            ]
          },
          "metadata": {},
          "execution_count": 35
        }
      ],
      "source": [
        "X_train.shape, y_train.shape, X_test.shape, y_test.shape"
      ]
    },
    {
      "cell_type": "markdown",
      "id": "ef02b5cc",
      "metadata": {
        "id": "ef02b5cc"
      },
      "source": [
        "## Построение моделей классификации"
      ]
    },
    {
      "cell_type": "markdown",
      "id": "1f087fc3",
      "metadata": {
        "id": "1f087fc3"
      },
      "source": [
        "### Логистическая регрессия"
      ]
    },
    {
      "cell_type": "markdown",
      "id": "2738aea7",
      "metadata": {
        "id": "2738aea7"
      },
      "source": [
        "Построим модель логистической регрессии с помощью LogisticRegression:"
      ]
    },
    {
      "cell_type": "code",
      "execution_count": 36,
      "id": "ed58196a",
      "metadata": {
        "id": "ed58196a"
      },
      "outputs": [],
      "source": [
        "from sklearn.linear_model import LogisticRegression"
      ]
    },
    {
      "cell_type": "code",
      "execution_count": 37,
      "id": "544899a5",
      "metadata": {
        "colab": {
          "base_uri": "https://localhost:8080/"
        },
        "id": "544899a5",
        "outputId": "ffc09f40-3da8-4d80-9fae-5458f4356530"
      },
      "outputs": [
        {
          "output_type": "execute_result",
          "data": {
            "text/plain": [
              "LogisticRegression()"
            ]
          },
          "metadata": {},
          "execution_count": 37
        }
      ],
      "source": [
        "model_logistic = LogisticRegression()\n",
        "model_logistic.fit(X_train, y_train)"
      ]
    },
    {
      "cell_type": "code",
      "execution_count": 38,
      "id": "cfd43b2e",
      "metadata": {
        "id": "cfd43b2e"
      },
      "outputs": [],
      "source": [
        "targ_logistic = model_logistic.predict(X_test)"
      ]
    },
    {
      "cell_type": "markdown",
      "id": "c3787d7f",
      "metadata": {
        "id": "c3787d7f"
      },
      "source": [
        "Градиентный бустинг"
      ]
    },
    {
      "cell_type": "markdown",
      "id": "55525ab9",
      "metadata": {
        "id": "55525ab9"
      },
      "source": [
        "*Построим* модель градиентного бустинга с помощью RandomForestClassifier с числом соседей = 5:"
      ]
    },
    {
      "cell_type": "code",
      "execution_count": 42,
      "id": "b841464c",
      "metadata": {
        "id": "b841464c"
      },
      "outputs": [],
      "source": [
        "from sklearn.ensemble import AdaBoostClassifier"
      ]
    },
    {
      "cell_type": "code",
      "execution_count": 43,
      "id": "0562d776",
      "metadata": {
        "colab": {
          "base_uri": "https://localhost:8080/"
        },
        "id": "0562d776",
        "outputId": "275ffb57-8dda-4e25-ebf7-bafbf198c148"
      },
      "outputs": [
        {
          "output_type": "execute_result",
          "data": {
            "text/plain": [
              "AdaBoostClassifier()"
            ]
          },
          "metadata": {},
          "execution_count": 43
        }
      ],
      "source": [
        "model_boost = AdaBoostClassifier()\n",
        "model_boost.fit(X_train, y_train)"
      ]
    },
    {
      "cell_type": "code",
      "execution_count": 44,
      "id": "4fedfc11",
      "metadata": {
        "id": "4fedfc11"
      },
      "outputs": [],
      "source": [
        "targ_boost = model_boost.predict(X_test)"
      ]
    },
    {
      "cell_type": "markdown",
      "id": "6be7c0ee",
      "metadata": {
        "id": "6be7c0ee"
      },
      "source": [
        "## Оценка качества моделей"
      ]
    },
    {
      "cell_type": "markdown",
      "id": "3b564c86",
      "metadata": {
        "id": "3b564c86"
      },
      "source": [
        "Для оценки качества моделей классификации будем использовать две метрики - Accuracy и матрицу ошибок Confusion Matrix. Именно эти две метрики были выбраны, так как они помогают посчитать процент верно определенных городов и отобразить наглядно классифицированные данные."
      ]
    },
    {
      "cell_type": "code",
      "execution_count": 45,
      "id": "4f9443a2",
      "metadata": {
        "id": "4f9443a2"
      },
      "outputs": [],
      "source": [
        "from sklearn.metrics import accuracy_score\n",
        "from sklearn.metrics import confusion_matrix\n",
        "from sklearn.metrics import ConfusionMatrixDisplay"
      ]
    },
    {
      "cell_type": "markdown",
      "id": "6bf560a0",
      "metadata": {
        "id": "6bf560a0"
      },
      "source": [
        "### Метрика Accuracy"
      ]
    },
    {
      "cell_type": "markdown",
      "id": "b2adad8e",
      "metadata": {
        "id": "b2adad8e"
      },
      "source": [
        "Метрика вычисляет долю в диапазоне от 0 до 1 правильно определенных классов (в нашем случае городов)."
      ]
    },
    {
      "cell_type": "markdown",
      "id": "0142066b",
      "metadata": {
        "id": "0142066b"
      },
      "source": [
        "Проверим точность по всем городам:"
      ]
    },
    {
      "cell_type": "code",
      "execution_count": 46,
      "id": "0f1fded6",
      "metadata": {
        "colab": {
          "base_uri": "https://localhost:8080/"
        },
        "id": "0f1fded6",
        "outputId": "84b88ca1-f651-44fb-e9ed-d8ce7276df62"
      },
      "outputs": [
        {
          "output_type": "execute_result",
          "data": {
            "text/plain": [
              "0.5928519061583578"
            ]
          },
          "metadata": {},
          "execution_count": 46
        }
      ],
      "source": [
        "accuracy_score(y_test, targ_logistic)"
      ]
    },
    {
      "cell_type": "code",
      "execution_count": 47,
      "id": "ed200c48",
      "metadata": {
        "colab": {
          "base_uri": "https://localhost:8080/"
        },
        "id": "ed200c48",
        "outputId": "12ca3642-addc-4467-fb13-5b6356f0d7dd"
      },
      "outputs": [
        {
          "output_type": "execute_result",
          "data": {
            "text/plain": [
              "0.9381598240469208"
            ]
          },
          "metadata": {},
          "execution_count": 47
        }
      ],
      "source": [
        "accuracy_score(y_test, targ_boost)"
      ]
    },
    {
      "cell_type": "markdown",
      "id": "c9d6c5a6",
      "metadata": {
        "id": "c9d6c5a6"
      },
      "source": [
        "Видно, что точность всех классов у модели случайного леса выше, чем у модели логистической регрессии."
      ]
    },
    {
      "cell_type": "markdown",
      "id": "b2bdec10",
      "metadata": {
        "id": "b2bdec10"
      },
      "source": [
        "Проверим для каждого города из City:"
      ]
    },
    {
      "cell_type": "code",
      "execution_count": 48,
      "id": "09d59957",
      "metadata": {
        "id": "09d59957"
      },
      "outputs": [],
      "source": [
        "from typing import Dict, Tuple"
      ]
    },
    {
      "cell_type": "code",
      "execution_count": 49,
      "id": "1e23d503",
      "metadata": {
        "id": "1e23d503"
      },
      "outputs": [],
      "source": [
        "def accuracy_score_for_classes(\n",
        "    y_true: np.ndarray, \n",
        "    y_pred: np.ndarray) -> Dict[int, float]:\n",
        "    \"\"\"\n",
        "    Вычисление метрики Accuracy для каждого класса\n",
        "    y_true - истинные значения классов\n",
        "    y_pred - предсказанные значения классов\n",
        "    Возвращает словарь: ключ - метка класса, \n",
        "    значение - Accuracy для данного класса\n",
        "    \"\"\"\n",
        "    # Для удобства фильтрации сформируем Pandas DataFrame \n",
        "    d = {'t': y_true, 'p': y_pred}\n",
        "    df = pd.DataFrame(data=d)\n",
        "    # Метки классов\n",
        "    classes = np.unique(y_true)\n",
        "    # Результирующий словарь\n",
        "    res = dict()\n",
        "    # Перебор меток классов\n",
        "    for c in classes:\n",
        "        # отфильтруем данные, которые соответствуют \n",
        "        # текущей метке класса в истинных значениях\n",
        "        temp_data_flt = df[df['t']==c]\n",
        "        # расчет accuracy для заданной метки класса\n",
        "        temp_acc = accuracy_score(\n",
        "            temp_data_flt['t'].values, \n",
        "            temp_data_flt['p'].values)\n",
        "        # сохранение результата в словарь\n",
        "        res[c] = temp_acc\n",
        "    return res\n",
        "\n",
        "def print_accuracy_score_for_classes(\n",
        "    y_true: np.ndarray, \n",
        "    y_pred: np.ndarray):\n",
        "    \"\"\"\n",
        "    Вывод метрики Accuracy для каждого класса\n",
        "    \"\"\"\n",
        "    accs = accuracy_score_for_classes(y_true, y_pred)\n",
        "    if len(accs)>0:\n",
        "        print('Город \\t Accuracy')\n",
        "    for i in accs:\n",
        "        print('{} \\t {}'.format(i, accs[i]))"
      ]
    },
    {
      "cell_type": "code",
      "execution_count": 50,
      "id": "59f74d40",
      "metadata": {
        "colab": {
          "base_uri": "https://localhost:8080/"
        },
        "id": "59f74d40",
        "outputId": "6bf03686-7e23-41b5-d0ba-f8dbc5469a9c"
      },
      "outputs": [
        {
          "output_type": "stream",
          "name": "stdout",
          "text": [
            "Город \t Accuracy\n",
            "0 \t 0.8021272325908088\n",
            "1 \t 0.0\n",
            "2 \t 0.0\n",
            "3 \t 0.9645120405576679\n"
          ]
        }
      ],
      "source": [
        "print_accuracy_score_for_classes(y_test, targ_logistic)"
      ]
    },
    {
      "cell_type": "code",
      "execution_count": 51,
      "id": "9fc82219",
      "metadata": {
        "colab": {
          "base_uri": "https://localhost:8080/"
        },
        "id": "9fc82219",
        "outputId": "5108872f-7582-451e-a923-ff3602b308e8"
      },
      "outputs": [
        {
          "output_type": "stream",
          "name": "stdout",
          "text": [
            "Город \t Accuracy\n",
            "0 \t 1.0\n",
            "1 \t 1.0\n",
            "2 \t 0.0\n",
            "3 \t 1.0\n"
          ]
        }
      ],
      "source": [
        "print_accuracy_score_for_classes(y_test, targ_boost)"
      ]
    },
    {
      "cell_type": "markdown",
      "id": "10717271",
      "metadata": {
        "id": "10717271"
      },
      "source": [
        "Наблюдаем более высокую точность у модели случайного леса."
      ]
    },
    {
      "cell_type": "markdown",
      "id": "81dd2cb2",
      "metadata": {
        "id": "81dd2cb2"
      },
      "source": [
        "### Метрика Confusion Matrix"
      ]
    },
    {
      "cell_type": "markdown",
      "id": "d807c7cb",
      "metadata": {
        "id": "d807c7cb"
      },
      "source": [
        "Построим соответствующие матрицы:"
      ]
    },
    {
      "cell_type": "code",
      "execution_count": 52,
      "id": "b584275c",
      "metadata": {
        "colab": {
          "base_uri": "https://localhost:8080/"
        },
        "id": "b584275c",
        "outputId": "4a7db9cf-3aaa-4a74-8521-7066b19cf908"
      },
      "outputs": [
        {
          "output_type": "execute_result",
          "data": {
            "text/plain": [
              "array([[ 3997,     0,     0,   986,     0,     0,     0,     0],\n",
              "       [  369,     0,     0,  7617,     0,     0,     0,     0],\n",
              "       [    0,     0,     0,  1687,     0,     0,     0,     0],\n",
              "       [  448,     0,     0, 12176,     0,     0,     0,     0],\n",
              "       [    0,     0,     0,     0,     0,     0,     0,     0],\n",
              "       [    0,     0,     0,     0,     0,     0,     0,     0],\n",
              "       [    0,     0,     0,     0,     0,     0,     0,     0],\n",
              "       [    0,     0,     0,     0,     0,     0,     0,     0]])"
            ]
          },
          "metadata": {},
          "execution_count": 52
        }
      ],
      "source": [
        "confusion_matrix(y_test, targ_logistic, labels=[0, 1, 2, 3, 4, 5, 6, 7])"
      ]
    },
    {
      "cell_type": "code",
      "execution_count": 53,
      "id": "6e740828",
      "metadata": {
        "colab": {
          "base_uri": "https://localhost:8080/"
        },
        "id": "6e740828",
        "outputId": "7928b024-4c28-402b-b455-387020fb25e6"
      },
      "outputs": [
        {
          "output_type": "execute_result",
          "data": {
            "text/plain": [
              "array([[ 4983,     0,     0,     0,     0,     0,     0,     0],\n",
              "       [    0,  7986,     0,     0,     0,     0,     0,     0],\n",
              "       [    0,  1687,     0,     0,     0,     0,     0,     0],\n",
              "       [    0,     0,     0, 12624,     0,     0,     0,     0],\n",
              "       [    0,     0,     0,     0,     0,     0,     0,     0],\n",
              "       [    0,     0,     0,     0,     0,     0,     0,     0],\n",
              "       [    0,     0,     0,     0,     0,     0,     0,     0],\n",
              "       [    0,     0,     0,     0,     0,     0,     0,     0]])"
            ]
          },
          "metadata": {},
          "execution_count": 53
        }
      ],
      "source": [
        "confusion_matrix(y_test, targ_boost, labels=[0, 1, 2, 3, 4, 5, 6, 7])"
      ]
    },
    {
      "cell_type": "markdown",
      "id": "1acbb13a",
      "metadata": {
        "id": "1acbb13a"
      },
      "source": [
        "Визуализируем их:"
      ]
    },
    {
      "cell_type": "code",
      "execution_count": 54,
      "id": "905c7a79",
      "metadata": {
        "colab": {
          "base_uri": "https://localhost:8080/",
          "height": 370
        },
        "id": "905c7a79",
        "outputId": "66aea37e-1b24-426a-ec0d-09654b5f85ee"
      },
      "outputs": [
        {
          "output_type": "display_data",
          "data": {
            "text/plain": [
              "<Figure size 1080x360 with 4 Axes>"
            ],
            "image/png": "[encoded data removed]"
          },
          "metadata": {
            "needs_background": "light"
          }
        }
      ],
      "source": [
        "fig, ax = plt.subplots(1, 2, sharex='col', sharey='row', figsize=(15,5))\n",
        "\n",
        "ConfusionMatrixDisplay.from_estimator(\n",
        "        model_logistic,\n",
        "        X_test,\n",
        "        y_test,\n",
        "        display_labels=model_logistic.classes_,\n",
        "        cmap=plt.cm.Blues,\n",
        "        normalize='true',\n",
        "        ax=ax[0]\n",
        "    )\n",
        "\n",
        "ConfusionMatrixDisplay.from_estimator(\n",
        "        model_boost,\n",
        "        X_test,\n",
        "        y_test,\n",
        "        display_labels=model_boost.classes_,\n",
        "        cmap=plt.cm.Blues,\n",
        "        normalize='true',\n",
        "        ax=ax[1]\n",
        "    )\n",
        "\n",
        "fig.suptitle('Матрицы ошибок')\n",
        "ax[0].title.set_text('Логистическая регрессия')\n",
        "ax[1].title.set_text('Градиентный бустинг')"
      ]
    },
    {
      "cell_type": "markdown",
      "id": "ba174f2b",
      "metadata": {
        "id": "ba174f2b"
      },
      "source": [
        "Видно, что модель градиентного спуска обладает высокой точностью."
      ]
    }
  ],
  "metadata": {
    "authors": [
      {
        "name": "Анцифров Никита Сергеевич"
      }
    ],
    "group": "ИУ5-61Б",
    "kernelspec": {
      "display_name": "Python 3 (ipykernel)",
      "language": "python",
      "name": "python3"
    },
    "language_info": {
      "codemirror_mode": {
        "name": "ipython",
        "version": 3
      },
      "file_extension": ".py",
      "mimetype": "text/x-python",
      "name": "python",
      "nbconvert_exporter": "python",
      "pygments_lexer": "ipython3",
      "version": "3.9.9"
    },
    "rk_number": 2,
    "title": "Методы построения моделей машинного обучения",
    "colab": {
      "name": "RK2.ipynb",
      "provenance": []
    }
  },
  "nbformat": 4,
  "nbformat_minor": 5
}